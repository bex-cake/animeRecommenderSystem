{
 "cells": [
  {
   "cell_type": "code",
   "execution_count": 1,
   "id": "initial_id",
   "metadata": {
    "collapsed": true,
    "ExecuteTime": {
     "end_time": "2023-10-19T13:23:58.842612500Z",
     "start_time": "2023-10-19T13:23:55.403577400Z"
    }
   },
   "outputs": [],
   "source": [
    "# эти библиотеки нам уже знакомы\n",
    "import pandas as pd\n",
    " \n",
    "# модуль sparse библиотеки scipy понадобится \n",
    "# для работы с разреженными матрицами (об этом ниже)\n",
    "from scipy.sparse import csr_matrix\n",
    " \n",
    "# из sklearn мы импортируем алгоритм k-ближайших соседей\n",
    "from sklearn.neighbors import NearestNeighbors"
   ]
  },
  {
   "cell_type": "code",
   "execution_count": 2,
   "outputs": [
    {
     "data": {
      "text/plain": "          profile  anime_uid  score\n0  DesolatePsyche      34096      8\n1       baekbeans      34599     10\n2            skrn      28891      7",
      "text/html": "<div>\n<style scoped>\n    .dataframe tbody tr th:only-of-type {\n        vertical-align: middle;\n    }\n\n    .dataframe tbody tr th {\n        vertical-align: top;\n    }\n\n    .dataframe thead th {\n        text-align: right;\n    }\n</style>\n<table border=\"1\" class=\"dataframe\">\n  <thead>\n    <tr style=\"text-align: right;\">\n      <th></th>\n      <th>profile</th>\n      <th>anime_uid</th>\n      <th>score</th>\n    </tr>\n  </thead>\n  <tbody>\n    <tr>\n      <th>0</th>\n      <td>DesolatePsyche</td>\n      <td>34096</td>\n      <td>8</td>\n    </tr>\n    <tr>\n      <th>1</th>\n      <td>baekbeans</td>\n      <td>34599</td>\n      <td>10</td>\n    </tr>\n    <tr>\n      <th>2</th>\n      <td>skrn</td>\n      <td>28891</td>\n      <td>7</td>\n    </tr>\n  </tbody>\n</table>\n</div>"
     },
     "execution_count": 2,
     "metadata": {},
     "output_type": "execute_result"
    }
   ],
   "source": [
    "animes = pd.read_csv('animes.csv')\n",
    "reviews = pd.read_csv('reviews.csv')\n",
    "# убираю лишние колонны\n",
    "reviews.drop(['uid', 'text', 'scores', 'link'], axis = 1, inplace = True)\n",
    "reviews.head(3)"
   ],
   "metadata": {
    "collapsed": false,
    "ExecuteTime": {
     "end_time": "2023-10-19T13:24:04.272656600Z",
     "start_time": "2023-10-19T13:23:58.843557400Z"
    }
   },
   "id": "5560571fd03d1b03"
  },
  {
   "cell_type": "code",
   "execution_count": 3,
   "outputs": [
    {
     "data": {
      "text/plain": "     uid                    title\n0  28891  Haikyuu!! Second Season\n1  23273  Shigatsu wa Kimi no Uso\n2  34599            Made in Abyss",
      "text/html": "<div>\n<style scoped>\n    .dataframe tbody tr th:only-of-type {\n        vertical-align: middle;\n    }\n\n    .dataframe tbody tr th {\n        vertical-align: top;\n    }\n\n    .dataframe thead th {\n        text-align: right;\n    }\n</style>\n<table border=\"1\" class=\"dataframe\">\n  <thead>\n    <tr style=\"text-align: right;\">\n      <th></th>\n      <th>uid</th>\n      <th>title</th>\n    </tr>\n  </thead>\n  <tbody>\n    <tr>\n      <th>0</th>\n      <td>28891</td>\n      <td>Haikyuu!! Second Season</td>\n    </tr>\n    <tr>\n      <th>1</th>\n      <td>23273</td>\n      <td>Shigatsu wa Kimi no Uso</td>\n    </tr>\n    <tr>\n      <th>2</th>\n      <td>34599</td>\n      <td>Made in Abyss</td>\n    </tr>\n  </tbody>\n</table>\n</div>"
     },
     "execution_count": 3,
     "metadata": {},
     "output_type": "execute_result"
    }
   ],
   "source": [
    "# убираю лишние колонны\n",
    "animes.drop(['synopsis', 'genre', 'aired', 'episodes', 'members', 'popularity', 'ranked', 'score', 'img_url', 'link'], axis = 1, inplace = True)\n",
    "animes.head(3)"
   ],
   "metadata": {
    "collapsed": false,
    "ExecuteTime": {
     "end_time": "2023-10-19T13:24:04.311526500Z",
     "start_time": "2023-10-19T13:24:04.269666500Z"
    }
   },
   "id": "1de307a641246431"
  },
  {
   "cell_type": "code",
   "execution_count": 4,
   "outputs": [
    {
     "data": {
      "text/plain": "profile    -----noname-----  ---SnowFlake---  ---was-----  --EYEPATCH--  \\\nanime_uid                                                                 \n1                       NaN              NaN          NaN           NaN   \n5                       NaN              NaN          NaN           NaN   \n6                       NaN              NaN          NaN           NaN   \n7                       NaN              NaN          NaN           NaN   \n8                       NaN              NaN          NaN           NaN   \n\nprofile    --Mizu--  --Sunclaudius  --animeislife--  --d41  --mimika--  \\\nanime_uid                                                                \n1               NaN            NaN              NaN    NaN         NaN   \n5               NaN            NaN              NaN    NaN         NaN   \n6               NaN            NaN              NaN    NaN         NaN   \n7               NaN            NaN              NaN    NaN         NaN   \n8               NaN            NaN              NaN    NaN         NaN   \n\nprofile    --skeletor--  ...  zz980718  zzSorazz  zzeroparticle  zzs  zzxcvb  \\\nanime_uid                ...                                                   \n1                   NaN  ...       NaN       NaN            NaN  NaN     NaN   \n5                   NaN  ...       NaN       NaN            NaN  NaN     NaN   \n6                   NaN  ...       NaN       NaN            NaN  NaN     NaN   \n7                   NaN  ...       NaN       NaN            NaN  NaN     NaN   \n8                   NaN  ...       NaN       NaN            NaN  NaN     NaN   \n\nprofile    zzyamuraihazz  zzz-anime  zzzb  zzzjynne  zzzzzzzz  \nanime_uid                                                      \n1                    NaN        NaN   NaN       NaN       NaN  \n5                    NaN        NaN   NaN       NaN       NaN  \n6                    NaN        NaN   NaN       NaN       NaN  \n7                    NaN        NaN   NaN       NaN       NaN  \n8                    NaN        NaN   NaN       NaN       NaN  \n\n[5 rows x 47885 columns]",
      "text/html": "<div>\n<style scoped>\n    .dataframe tbody tr th:only-of-type {\n        vertical-align: middle;\n    }\n\n    .dataframe tbody tr th {\n        vertical-align: top;\n    }\n\n    .dataframe thead th {\n        text-align: right;\n    }\n</style>\n<table border=\"1\" class=\"dataframe\">\n  <thead>\n    <tr style=\"text-align: right;\">\n      <th>profile</th>\n      <th>-----noname-----</th>\n      <th>---SnowFlake---</th>\n      <th>---was-----</th>\n      <th>--EYEPATCH--</th>\n      <th>--Mizu--</th>\n      <th>--Sunclaudius</th>\n      <th>--animeislife--</th>\n      <th>--d41</th>\n      <th>--mimika--</th>\n      <th>--skeletor--</th>\n      <th>...</th>\n      <th>zz980718</th>\n      <th>zzSorazz</th>\n      <th>zzeroparticle</th>\n      <th>zzs</th>\n      <th>zzxcvb</th>\n      <th>zzyamuraihazz</th>\n      <th>zzz-anime</th>\n      <th>zzzb</th>\n      <th>zzzjynne</th>\n      <th>zzzzzzzz</th>\n    </tr>\n    <tr>\n      <th>anime_uid</th>\n      <th></th>\n      <th></th>\n      <th></th>\n      <th></th>\n      <th></th>\n      <th></th>\n      <th></th>\n      <th></th>\n      <th></th>\n      <th></th>\n      <th></th>\n      <th></th>\n      <th></th>\n      <th></th>\n      <th></th>\n      <th></th>\n      <th></th>\n      <th></th>\n      <th></th>\n      <th></th>\n      <th></th>\n    </tr>\n  </thead>\n  <tbody>\n    <tr>\n      <th>1</th>\n      <td>NaN</td>\n      <td>NaN</td>\n      <td>NaN</td>\n      <td>NaN</td>\n      <td>NaN</td>\n      <td>NaN</td>\n      <td>NaN</td>\n      <td>NaN</td>\n      <td>NaN</td>\n      <td>NaN</td>\n      <td>...</td>\n      <td>NaN</td>\n      <td>NaN</td>\n      <td>NaN</td>\n      <td>NaN</td>\n      <td>NaN</td>\n      <td>NaN</td>\n      <td>NaN</td>\n      <td>NaN</td>\n      <td>NaN</td>\n      <td>NaN</td>\n    </tr>\n    <tr>\n      <th>5</th>\n      <td>NaN</td>\n      <td>NaN</td>\n      <td>NaN</td>\n      <td>NaN</td>\n      <td>NaN</td>\n      <td>NaN</td>\n      <td>NaN</td>\n      <td>NaN</td>\n      <td>NaN</td>\n      <td>NaN</td>\n      <td>...</td>\n      <td>NaN</td>\n      <td>NaN</td>\n      <td>NaN</td>\n      <td>NaN</td>\n      <td>NaN</td>\n      <td>NaN</td>\n      <td>NaN</td>\n      <td>NaN</td>\n      <td>NaN</td>\n      <td>NaN</td>\n    </tr>\n    <tr>\n      <th>6</th>\n      <td>NaN</td>\n      <td>NaN</td>\n      <td>NaN</td>\n      <td>NaN</td>\n      <td>NaN</td>\n      <td>NaN</td>\n      <td>NaN</td>\n      <td>NaN</td>\n      <td>NaN</td>\n      <td>NaN</td>\n      <td>...</td>\n      <td>NaN</td>\n      <td>NaN</td>\n      <td>NaN</td>\n      <td>NaN</td>\n      <td>NaN</td>\n      <td>NaN</td>\n      <td>NaN</td>\n      <td>NaN</td>\n      <td>NaN</td>\n      <td>NaN</td>\n    </tr>\n    <tr>\n      <th>7</th>\n      <td>NaN</td>\n      <td>NaN</td>\n      <td>NaN</td>\n      <td>NaN</td>\n      <td>NaN</td>\n      <td>NaN</td>\n      <td>NaN</td>\n      <td>NaN</td>\n      <td>NaN</td>\n      <td>NaN</td>\n      <td>...</td>\n      <td>NaN</td>\n      <td>NaN</td>\n      <td>NaN</td>\n      <td>NaN</td>\n      <td>NaN</td>\n      <td>NaN</td>\n      <td>NaN</td>\n      <td>NaN</td>\n      <td>NaN</td>\n      <td>NaN</td>\n    </tr>\n    <tr>\n      <th>8</th>\n      <td>NaN</td>\n      <td>NaN</td>\n      <td>NaN</td>\n      <td>NaN</td>\n      <td>NaN</td>\n      <td>NaN</td>\n      <td>NaN</td>\n      <td>NaN</td>\n      <td>NaN</td>\n      <td>NaN</td>\n      <td>...</td>\n      <td>NaN</td>\n      <td>NaN</td>\n      <td>NaN</td>\n      <td>NaN</td>\n      <td>NaN</td>\n      <td>NaN</td>\n      <td>NaN</td>\n      <td>NaN</td>\n      <td>NaN</td>\n      <td>NaN</td>\n    </tr>\n  </tbody>\n</table>\n<p>5 rows × 47885 columns</p>\n</div>"
     },
     "execution_count": 4,
     "metadata": {},
     "output_type": "execute_result"
    }
   ],
   "source": [
    "# создаю связь юзер-айтем, чтобы дальше использовать подходящие аниме для других юзеров\n",
    "user_item_matrix = pd.pivot_table(reviews, index = 'anime_uid', columns = 'profile', values = 'score')\n",
    "user_item_matrix.head()"
   ],
   "metadata": {
    "collapsed": false,
    "ExecuteTime": {
     "end_time": "2023-10-19T13:24:13.587308900Z",
     "start_time": "2023-10-19T13:24:04.304549800Z"
    }
   },
   "id": "519798042393b4fb"
  },
  {
   "cell_type": "code",
   "execution_count": 5,
   "outputs": [
    {
     "data": {
      "text/plain": "profile    -----noname-----  ---SnowFlake---  ---was-----  --EYEPATCH--  \\\nanime_uid                                                                 \n1                       0.0              0.0          0.0           0.0   \n5                       0.0              0.0          0.0           0.0   \n6                       0.0              0.0          0.0           0.0   \n7                       0.0              0.0          0.0           0.0   \n8                       0.0              0.0          0.0           0.0   \n\nprofile    --Mizu--  --Sunclaudius  --animeislife--  --d41  --mimika--  \\\nanime_uid                                                                \n1               0.0            0.0              0.0    0.0         0.0   \n5               0.0            0.0              0.0    0.0         0.0   \n6               0.0            0.0              0.0    0.0         0.0   \n7               0.0            0.0              0.0    0.0         0.0   \n8               0.0            0.0              0.0    0.0         0.0   \n\nprofile    --skeletor--  ...  zz980718  zzSorazz  zzeroparticle  zzs  zzxcvb  \\\nanime_uid                ...                                                   \n1                   0.0  ...       0.0       0.0            0.0  0.0     0.0   \n5                   0.0  ...       0.0       0.0            0.0  0.0     0.0   \n6                   0.0  ...       0.0       0.0            0.0  0.0     0.0   \n7                   0.0  ...       0.0       0.0            0.0  0.0     0.0   \n8                   0.0  ...       0.0       0.0            0.0  0.0     0.0   \n\nprofile    zzyamuraihazz  zzz-anime  zzzb  zzzjynne  zzzzzzzz  \nanime_uid                                                      \n1                    0.0        0.0   0.0       0.0       0.0  \n5                    0.0        0.0   0.0       0.0       0.0  \n6                    0.0        0.0   0.0       0.0       0.0  \n7                    0.0        0.0   0.0       0.0       0.0  \n8                    0.0        0.0   0.0       0.0       0.0  \n\n[5 rows x 47885 columns]",
      "text/html": "<div>\n<style scoped>\n    .dataframe tbody tr th:only-of-type {\n        vertical-align: middle;\n    }\n\n    .dataframe tbody tr th {\n        vertical-align: top;\n    }\n\n    .dataframe thead th {\n        text-align: right;\n    }\n</style>\n<table border=\"1\" class=\"dataframe\">\n  <thead>\n    <tr style=\"text-align: right;\">\n      <th>profile</th>\n      <th>-----noname-----</th>\n      <th>---SnowFlake---</th>\n      <th>---was-----</th>\n      <th>--EYEPATCH--</th>\n      <th>--Mizu--</th>\n      <th>--Sunclaudius</th>\n      <th>--animeislife--</th>\n      <th>--d41</th>\n      <th>--mimika--</th>\n      <th>--skeletor--</th>\n      <th>...</th>\n      <th>zz980718</th>\n      <th>zzSorazz</th>\n      <th>zzeroparticle</th>\n      <th>zzs</th>\n      <th>zzxcvb</th>\n      <th>zzyamuraihazz</th>\n      <th>zzz-anime</th>\n      <th>zzzb</th>\n      <th>zzzjynne</th>\n      <th>zzzzzzzz</th>\n    </tr>\n    <tr>\n      <th>anime_uid</th>\n      <th></th>\n      <th></th>\n      <th></th>\n      <th></th>\n      <th></th>\n      <th></th>\n      <th></th>\n      <th></th>\n      <th></th>\n      <th></th>\n      <th></th>\n      <th></th>\n      <th></th>\n      <th></th>\n      <th></th>\n      <th></th>\n      <th></th>\n      <th></th>\n      <th></th>\n      <th></th>\n      <th></th>\n    </tr>\n  </thead>\n  <tbody>\n    <tr>\n      <th>1</th>\n      <td>0.0</td>\n      <td>0.0</td>\n      <td>0.0</td>\n      <td>0.0</td>\n      <td>0.0</td>\n      <td>0.0</td>\n      <td>0.0</td>\n      <td>0.0</td>\n      <td>0.0</td>\n      <td>0.0</td>\n      <td>...</td>\n      <td>0.0</td>\n      <td>0.0</td>\n      <td>0.0</td>\n      <td>0.0</td>\n      <td>0.0</td>\n      <td>0.0</td>\n      <td>0.0</td>\n      <td>0.0</td>\n      <td>0.0</td>\n      <td>0.0</td>\n    </tr>\n    <tr>\n      <th>5</th>\n      <td>0.0</td>\n      <td>0.0</td>\n      <td>0.0</td>\n      <td>0.0</td>\n      <td>0.0</td>\n      <td>0.0</td>\n      <td>0.0</td>\n      <td>0.0</td>\n      <td>0.0</td>\n      <td>0.0</td>\n      <td>...</td>\n      <td>0.0</td>\n      <td>0.0</td>\n      <td>0.0</td>\n      <td>0.0</td>\n      <td>0.0</td>\n      <td>0.0</td>\n      <td>0.0</td>\n      <td>0.0</td>\n      <td>0.0</td>\n      <td>0.0</td>\n    </tr>\n    <tr>\n      <th>6</th>\n      <td>0.0</td>\n      <td>0.0</td>\n      <td>0.0</td>\n      <td>0.0</td>\n      <td>0.0</td>\n      <td>0.0</td>\n      <td>0.0</td>\n      <td>0.0</td>\n      <td>0.0</td>\n      <td>0.0</td>\n      <td>...</td>\n      <td>0.0</td>\n      <td>0.0</td>\n      <td>0.0</td>\n      <td>0.0</td>\n      <td>0.0</td>\n      <td>0.0</td>\n      <td>0.0</td>\n      <td>0.0</td>\n      <td>0.0</td>\n      <td>0.0</td>\n    </tr>\n    <tr>\n      <th>7</th>\n      <td>0.0</td>\n      <td>0.0</td>\n      <td>0.0</td>\n      <td>0.0</td>\n      <td>0.0</td>\n      <td>0.0</td>\n      <td>0.0</td>\n      <td>0.0</td>\n      <td>0.0</td>\n      <td>0.0</td>\n      <td>...</td>\n      <td>0.0</td>\n      <td>0.0</td>\n      <td>0.0</td>\n      <td>0.0</td>\n      <td>0.0</td>\n      <td>0.0</td>\n      <td>0.0</td>\n      <td>0.0</td>\n      <td>0.0</td>\n      <td>0.0</td>\n    </tr>\n    <tr>\n      <th>8</th>\n      <td>0.0</td>\n      <td>0.0</td>\n      <td>0.0</td>\n      <td>0.0</td>\n      <td>0.0</td>\n      <td>0.0</td>\n      <td>0.0</td>\n      <td>0.0</td>\n      <td>0.0</td>\n      <td>0.0</td>\n      <td>...</td>\n      <td>0.0</td>\n      <td>0.0</td>\n      <td>0.0</td>\n      <td>0.0</td>\n      <td>0.0</td>\n      <td>0.0</td>\n      <td>0.0</td>\n      <td>0.0</td>\n      <td>0.0</td>\n      <td>0.0</td>\n    </tr>\n  </tbody>\n</table>\n<p>5 rows × 47885 columns</p>\n</div>"
     },
     "execution_count": 5,
     "metadata": {},
     "output_type": "execute_result"
    }
   ],
   "source": [
    "# параметр inplace = True опять же поможет сохранить результат, и заменяю NaN на числовые значения(0)\n",
    "user_item_matrix.fillna(0, inplace = True)\n",
    "user_item_matrix.head()"
   ],
   "metadata": {
    "collapsed": false,
    "ExecuteTime": {
     "end_time": "2023-10-19T13:24:24.678644700Z",
     "start_time": "2023-10-19T13:24:13.588305Z"
    }
   },
   "id": "971fa0006249cc99"
  },
  {
   "cell_type": "code",
   "execution_count": 6,
   "outputs": [
    {
     "data": {
      "text/plain": "(2362, 269)"
     },
     "execution_count": 6,
     "metadata": {},
     "output_type": "execute_result"
    }
   ],
   "source": [
    "# вначале сгруппируем (объединим) пользователей, возьмем только столбец score \n",
    "# и посчитаем, сколько было оценок у каждого пользователя\n",
    "users_votes = reviews.groupby('profile')['score'].agg('count')\n",
    " \n",
    "# сделаем то же самое, только для аниме\n",
    "animes_votes = reviews.groupby('anime_uid')['score'].agg('count')\n",
    " \n",
    "# теперь создадим фильтр (mask)\n",
    "user_mask = users_votes[users_votes > 50].index\n",
    "anime_mask = animes_votes[animes_votes > 10].index\n",
    " \n",
    "# применим фильтры и отберем аниме с достаточным количеством оценок\n",
    "user_item_matrix = user_item_matrix.loc[anime_mask,:]\n",
    " \n",
    "# а также активных пользователей\n",
    "user_item_matrix = user_item_matrix.loc[:,user_mask]\n",
    "user_item_matrix.shape"
   ],
   "metadata": {
    "collapsed": false,
    "ExecuteTime": {
     "end_time": "2023-10-19T13:24:25.328472700Z",
     "start_time": "2023-10-19T13:24:24.703563300Z"
    }
   },
   "id": "e1c77b03decef59a"
  },
  {
   "cell_type": "code",
   "execution_count": 7,
   "outputs": [],
   "source": [
    "csr_data = csr_matrix(user_item_matrix.values)"
   ],
   "metadata": {
    "collapsed": false,
    "ExecuteTime": {
     "end_time": "2023-10-19T13:24:25.389273200Z",
     "start_time": "2023-10-19T13:24:25.331467700Z"
    }
   },
   "id": "91e672d463d5fd24"
  },
  {
   "cell_type": "code",
   "execution_count": 8,
   "outputs": [
    {
     "data": {
      "text/plain": "   anime_uid  0MAN0  11chadwick  5camp  711nono  84DaysWithout  8thSin  \\\n0          1    0.0         0.0    0.0      0.0            0.0     0.0   \n1          5    0.0         0.0    0.0      0.0            0.0     0.0   \n2          6    0.0         0.0    0.0      0.0            0.0     0.0   \n3          7    0.0         0.0    0.0      0.0            0.0     0.0   \n4         15    0.0         0.0    0.0      0.0            0.0     0.0   \n\n   AbsarNaeem  Agent_Redacted  Alpharon  ...  starshinesMonet  sushiisawesome  \\\n0         0.0             0.0       0.0  ...              0.0             0.0   \n1         0.0             0.0       0.0  ...              0.0             0.0   \n2         0.0             0.0       0.0  ...              0.0             0.0   \n3         0.0             0.0       0.0  ...              0.0             0.0   \n4         0.0             0.0       0.0  ...              0.0             0.0   \n\n   themegamancave  tinypinkghostie  tuva  usaking  vigorousjammer  \\\n0             9.0              0.0   0.0      0.0             0.0   \n1             0.0              0.0   0.0      0.0             0.0   \n2             0.0              0.0   0.0      0.0             0.0   \n3             0.0              0.0   0.0      0.0             0.0   \n4             0.0              0.0   0.0      0.0             0.0   \n\n   vitriolcocktail  wolfwing  xcomprr  \n0              0.0       0.0      0.0  \n1              0.0       0.0      0.0  \n2              0.0       0.0      0.0  \n3              0.0       0.0      0.0  \n4              0.0       0.0      0.0  \n\n[5 rows x 270 columns]",
      "text/html": "<div>\n<style scoped>\n    .dataframe tbody tr th:only-of-type {\n        vertical-align: middle;\n    }\n\n    .dataframe tbody tr th {\n        vertical-align: top;\n    }\n\n    .dataframe thead th {\n        text-align: right;\n    }\n</style>\n<table border=\"1\" class=\"dataframe\">\n  <thead>\n    <tr style=\"text-align: right;\">\n      <th></th>\n      <th>anime_uid</th>\n      <th>0MAN0</th>\n      <th>11chadwick</th>\n      <th>5camp</th>\n      <th>711nono</th>\n      <th>84DaysWithout</th>\n      <th>8thSin</th>\n      <th>AbsarNaeem</th>\n      <th>Agent_Redacted</th>\n      <th>Alpharon</th>\n      <th>...</th>\n      <th>starshinesMonet</th>\n      <th>sushiisawesome</th>\n      <th>themegamancave</th>\n      <th>tinypinkghostie</th>\n      <th>tuva</th>\n      <th>usaking</th>\n      <th>vigorousjammer</th>\n      <th>vitriolcocktail</th>\n      <th>wolfwing</th>\n      <th>xcomprr</th>\n    </tr>\n  </thead>\n  <tbody>\n    <tr>\n      <th>0</th>\n      <td>1</td>\n      <td>0.0</td>\n      <td>0.0</td>\n      <td>0.0</td>\n      <td>0.0</td>\n      <td>0.0</td>\n      <td>0.0</td>\n      <td>0.0</td>\n      <td>0.0</td>\n      <td>0.0</td>\n      <td>...</td>\n      <td>0.0</td>\n      <td>0.0</td>\n      <td>9.0</td>\n      <td>0.0</td>\n      <td>0.0</td>\n      <td>0.0</td>\n      <td>0.0</td>\n      <td>0.0</td>\n      <td>0.0</td>\n      <td>0.0</td>\n    </tr>\n    <tr>\n      <th>1</th>\n      <td>5</td>\n      <td>0.0</td>\n      <td>0.0</td>\n      <td>0.0</td>\n      <td>0.0</td>\n      <td>0.0</td>\n      <td>0.0</td>\n      <td>0.0</td>\n      <td>0.0</td>\n      <td>0.0</td>\n      <td>...</td>\n      <td>0.0</td>\n      <td>0.0</td>\n      <td>0.0</td>\n      <td>0.0</td>\n      <td>0.0</td>\n      <td>0.0</td>\n      <td>0.0</td>\n      <td>0.0</td>\n      <td>0.0</td>\n      <td>0.0</td>\n    </tr>\n    <tr>\n      <th>2</th>\n      <td>6</td>\n      <td>0.0</td>\n      <td>0.0</td>\n      <td>0.0</td>\n      <td>0.0</td>\n      <td>0.0</td>\n      <td>0.0</td>\n      <td>0.0</td>\n      <td>0.0</td>\n      <td>0.0</td>\n      <td>...</td>\n      <td>0.0</td>\n      <td>0.0</td>\n      <td>0.0</td>\n      <td>0.0</td>\n      <td>0.0</td>\n      <td>0.0</td>\n      <td>0.0</td>\n      <td>0.0</td>\n      <td>0.0</td>\n      <td>0.0</td>\n    </tr>\n    <tr>\n      <th>3</th>\n      <td>7</td>\n      <td>0.0</td>\n      <td>0.0</td>\n      <td>0.0</td>\n      <td>0.0</td>\n      <td>0.0</td>\n      <td>0.0</td>\n      <td>0.0</td>\n      <td>0.0</td>\n      <td>0.0</td>\n      <td>...</td>\n      <td>0.0</td>\n      <td>0.0</td>\n      <td>0.0</td>\n      <td>0.0</td>\n      <td>0.0</td>\n      <td>0.0</td>\n      <td>0.0</td>\n      <td>0.0</td>\n      <td>0.0</td>\n      <td>0.0</td>\n    </tr>\n    <tr>\n      <th>4</th>\n      <td>15</td>\n      <td>0.0</td>\n      <td>0.0</td>\n      <td>0.0</td>\n      <td>0.0</td>\n      <td>0.0</td>\n      <td>0.0</td>\n      <td>0.0</td>\n      <td>0.0</td>\n      <td>0.0</td>\n      <td>...</td>\n      <td>0.0</td>\n      <td>0.0</td>\n      <td>0.0</td>\n      <td>0.0</td>\n      <td>0.0</td>\n      <td>0.0</td>\n      <td>0.0</td>\n      <td>0.0</td>\n      <td>0.0</td>\n      <td>0.0</td>\n    </tr>\n  </tbody>\n</table>\n<p>5 rows × 270 columns</p>\n</div>"
     },
     "execution_count": 8,
     "metadata": {},
     "output_type": "execute_result"
    }
   ],
   "source": [
    "user_item_matrix = user_item_matrix.rename_axis(None, axis = 1).reset_index()\n",
    "user_item_matrix.head()"
   ],
   "metadata": {
    "collapsed": false,
    "ExecuteTime": {
     "end_time": "2023-10-19T13:24:25.402227100Z",
     "start_time": "2023-10-19T13:24:25.362358900Z"
    }
   },
   "id": "b62b64212d462c50"
  },
  {
   "cell_type": "code",
   "execution_count": 9,
   "outputs": [
    {
     "data": {
      "text/plain": "NearestNeighbors(algorithm='brute', metric='cosine', n_jobs=-1, n_neighbors=20)",
      "text/html": "<style>#sk-container-id-1 {color: black;}#sk-container-id-1 pre{padding: 0;}#sk-container-id-1 div.sk-toggleable {background-color: white;}#sk-container-id-1 label.sk-toggleable__label {cursor: pointer;display: block;width: 100%;margin-bottom: 0;padding: 0.3em;box-sizing: border-box;text-align: center;}#sk-container-id-1 label.sk-toggleable__label-arrow:before {content: \"▸\";float: left;margin-right: 0.25em;color: #696969;}#sk-container-id-1 label.sk-toggleable__label-arrow:hover:before {color: black;}#sk-container-id-1 div.sk-estimator:hover label.sk-toggleable__label-arrow:before {color: black;}#sk-container-id-1 div.sk-toggleable__content {max-height: 0;max-width: 0;overflow: hidden;text-align: left;background-color: #f0f8ff;}#sk-container-id-1 div.sk-toggleable__content pre {margin: 0.2em;color: black;border-radius: 0.25em;background-color: #f0f8ff;}#sk-container-id-1 input.sk-toggleable__control:checked~div.sk-toggleable__content {max-height: 200px;max-width: 100%;overflow: auto;}#sk-container-id-1 input.sk-toggleable__control:checked~label.sk-toggleable__label-arrow:before {content: \"▾\";}#sk-container-id-1 div.sk-estimator input.sk-toggleable__control:checked~label.sk-toggleable__label {background-color: #d4ebff;}#sk-container-id-1 div.sk-label input.sk-toggleable__control:checked~label.sk-toggleable__label {background-color: #d4ebff;}#sk-container-id-1 input.sk-hidden--visually {border: 0;clip: rect(1px 1px 1px 1px);clip: rect(1px, 1px, 1px, 1px);height: 1px;margin: -1px;overflow: hidden;padding: 0;position: absolute;width: 1px;}#sk-container-id-1 div.sk-estimator {font-family: monospace;background-color: #f0f8ff;border: 1px dotted black;border-radius: 0.25em;box-sizing: border-box;margin-bottom: 0.5em;}#sk-container-id-1 div.sk-estimator:hover {background-color: #d4ebff;}#sk-container-id-1 div.sk-parallel-item::after {content: \"\";width: 100%;border-bottom: 1px solid gray;flex-grow: 1;}#sk-container-id-1 div.sk-label:hover label.sk-toggleable__label {background-color: #d4ebff;}#sk-container-id-1 div.sk-serial::before {content: \"\";position: absolute;border-left: 1px solid gray;box-sizing: border-box;top: 0;bottom: 0;left: 50%;z-index: 0;}#sk-container-id-1 div.sk-serial {display: flex;flex-direction: column;align-items: center;background-color: white;padding-right: 0.2em;padding-left: 0.2em;position: relative;}#sk-container-id-1 div.sk-item {position: relative;z-index: 1;}#sk-container-id-1 div.sk-parallel {display: flex;align-items: stretch;justify-content: center;background-color: white;position: relative;}#sk-container-id-1 div.sk-item::before, #sk-container-id-1 div.sk-parallel-item::before {content: \"\";position: absolute;border-left: 1px solid gray;box-sizing: border-box;top: 0;bottom: 0;left: 50%;z-index: -1;}#sk-container-id-1 div.sk-parallel-item {display: flex;flex-direction: column;z-index: 1;position: relative;background-color: white;}#sk-container-id-1 div.sk-parallel-item:first-child::after {align-self: flex-end;width: 50%;}#sk-container-id-1 div.sk-parallel-item:last-child::after {align-self: flex-start;width: 50%;}#sk-container-id-1 div.sk-parallel-item:only-child::after {width: 0;}#sk-container-id-1 div.sk-dashed-wrapped {border: 1px dashed gray;margin: 0 0.4em 0.5em 0.4em;box-sizing: border-box;padding-bottom: 0.4em;background-color: white;}#sk-container-id-1 div.sk-label label {font-family: monospace;font-weight: bold;display: inline-block;line-height: 1.2em;}#sk-container-id-1 div.sk-label-container {text-align: center;}#sk-container-id-1 div.sk-container {/* jupyter's `normalize.less` sets `[hidden] { display: none; }` but bootstrap.min.css set `[hidden] { display: none !important; }` so we also need the `!important` here to be able to override the default hidden behavior on the sphinx rendered scikit-learn.org. See: https://github.com/scikit-learn/scikit-learn/issues/21755 */display: inline-block !important;position: relative;}#sk-container-id-1 div.sk-text-repr-fallback {display: none;}</style><div id=\"sk-container-id-1\" class=\"sk-top-container\"><div class=\"sk-text-repr-fallback\"><pre>NearestNeighbors(algorithm=&#x27;brute&#x27;, metric=&#x27;cosine&#x27;, n_jobs=-1, n_neighbors=20)</pre><b>In a Jupyter environment, please rerun this cell to show the HTML representation or trust the notebook. <br />On GitHub, the HTML representation is unable to render, please try loading this page with nbviewer.org.</b></div><div class=\"sk-container\" hidden><div class=\"sk-item\"><div class=\"sk-estimator sk-toggleable\"><input class=\"sk-toggleable__control sk-hidden--visually\" id=\"sk-estimator-id-1\" type=\"checkbox\" checked><label for=\"sk-estimator-id-1\" class=\"sk-toggleable__label sk-toggleable__label-arrow\">NearestNeighbors</label><div class=\"sk-toggleable__content\"><pre>NearestNeighbors(algorithm=&#x27;brute&#x27;, metric=&#x27;cosine&#x27;, n_jobs=-1, n_neighbors=20)</pre></div></div></div></div></div>"
     },
     "execution_count": 9,
     "metadata": {},
     "output_type": "execute_result"
    }
   ],
   "source": [
    "# создадим объект класса NearestNeighbors\n",
    "knn = NearestNeighbors(metric = 'cosine', algorithm = 'brute', n_neighbors = 20, n_jobs = -1)\n",
    " \n",
    "# обучим модель\n",
    "knn.fit(csr_data)"
   ],
   "metadata": {
    "collapsed": false,
    "ExecuteTime": {
     "end_time": "2023-10-19T13:24:25.496908800Z",
     "start_time": "2023-10-19T13:24:25.402227100Z"
    }
   },
   "id": "5feedc9af2888d69"
  },
  {
   "cell_type": "code",
   "execution_count": 10,
   "outputs": [
    {
     "data": {
      "text/plain": "         uid                                              title\n0      28891                            Haikyuu!! Second Season\n10     32935  Haikyuu!!: Karasuno Koukou vs. Shiratorizawa G...\n30     30364               Haikyuu!! Movie 2: Shousha to Haisha\n86     29755               Haikyuu!! Movie 1: Owari to Hajimari\n134    35111              Haikyuu!! Movie 4: Concept no Tatakai\n163    35110                 Haikyuu!! Movie 3: Sainou to Sense\n735    20583                                          Haikyuu!!\n867    25303                             Haikyuu!!: Lev Genzan!\n1675   40776                   Haikyuu!!: To the Top 2nd Season\n1676   38883                              Haikyuu!!: To the Top\n1677   40262                            Haikyuu!!: Riku vs. Kuu\n1680   40372                                    Haikyuu!! (OVA)\n3077   28891                            Haikyuu!! Second Season\n3087   32935  Haikyuu!!: Karasuno Koukou vs. Shiratorizawa G...\n3255   30364               Haikyuu!! Movie 2: Shousha to Haisha\n3744   35806                            Haikyuu!!: vs. \"Akaten\"\n4342   29755               Haikyuu!! Movie 1: Owari to Hajimari\n5140   35111              Haikyuu!! Movie 4: Concept no Tatakai\n5379   35110                 Haikyuu!! Movie 3: Sainou to Sense\n9347   35321  Haikyuu!!: Tokushuu! Haru-kou Volley ni Kaketa...\n14794  40776                   Haikyuu!!: To the Top 2nd Season\n14796  38883                              Haikyuu!!: To the Top\n14985  40372                                    Haikyuu!! (OVA)\n14986  40262                            Haikyuu!!: Riku vs. Kuu\n15207  31675                      Haikyuu!! Quest Picture Drama\n17756  20583                                          Haikyuu!!\n19082  25303                             Haikyuu!!: Lev Genzan!",
      "text/html": "<div>\n<style scoped>\n    .dataframe tbody tr th:only-of-type {\n        vertical-align: middle;\n    }\n\n    .dataframe tbody tr th {\n        vertical-align: top;\n    }\n\n    .dataframe thead th {\n        text-align: right;\n    }\n</style>\n<table border=\"1\" class=\"dataframe\">\n  <thead>\n    <tr style=\"text-align: right;\">\n      <th></th>\n      <th>uid</th>\n      <th>title</th>\n    </tr>\n  </thead>\n  <tbody>\n    <tr>\n      <th>0</th>\n      <td>28891</td>\n      <td>Haikyuu!! Second Season</td>\n    </tr>\n    <tr>\n      <th>10</th>\n      <td>32935</td>\n      <td>Haikyuu!!: Karasuno Koukou vs. Shiratorizawa G...</td>\n    </tr>\n    <tr>\n      <th>30</th>\n      <td>30364</td>\n      <td>Haikyuu!! Movie 2: Shousha to Haisha</td>\n    </tr>\n    <tr>\n      <th>86</th>\n      <td>29755</td>\n      <td>Haikyuu!! Movie 1: Owari to Hajimari</td>\n    </tr>\n    <tr>\n      <th>134</th>\n      <td>35111</td>\n      <td>Haikyuu!! Movie 4: Concept no Tatakai</td>\n    </tr>\n    <tr>\n      <th>163</th>\n      <td>35110</td>\n      <td>Haikyuu!! Movie 3: Sainou to Sense</td>\n    </tr>\n    <tr>\n      <th>735</th>\n      <td>20583</td>\n      <td>Haikyuu!!</td>\n    </tr>\n    <tr>\n      <th>867</th>\n      <td>25303</td>\n      <td>Haikyuu!!: Lev Genzan!</td>\n    </tr>\n    <tr>\n      <th>1675</th>\n      <td>40776</td>\n      <td>Haikyuu!!: To the Top 2nd Season</td>\n    </tr>\n    <tr>\n      <th>1676</th>\n      <td>38883</td>\n      <td>Haikyuu!!: To the Top</td>\n    </tr>\n    <tr>\n      <th>1677</th>\n      <td>40262</td>\n      <td>Haikyuu!!: Riku vs. Kuu</td>\n    </tr>\n    <tr>\n      <th>1680</th>\n      <td>40372</td>\n      <td>Haikyuu!! (OVA)</td>\n    </tr>\n    <tr>\n      <th>3077</th>\n      <td>28891</td>\n      <td>Haikyuu!! Second Season</td>\n    </tr>\n    <tr>\n      <th>3087</th>\n      <td>32935</td>\n      <td>Haikyuu!!: Karasuno Koukou vs. Shiratorizawa G...</td>\n    </tr>\n    <tr>\n      <th>3255</th>\n      <td>30364</td>\n      <td>Haikyuu!! Movie 2: Shousha to Haisha</td>\n    </tr>\n    <tr>\n      <th>3744</th>\n      <td>35806</td>\n      <td>Haikyuu!!: vs. \"Akaten\"</td>\n    </tr>\n    <tr>\n      <th>4342</th>\n      <td>29755</td>\n      <td>Haikyuu!! Movie 1: Owari to Hajimari</td>\n    </tr>\n    <tr>\n      <th>5140</th>\n      <td>35111</td>\n      <td>Haikyuu!! Movie 4: Concept no Tatakai</td>\n    </tr>\n    <tr>\n      <th>5379</th>\n      <td>35110</td>\n      <td>Haikyuu!! Movie 3: Sainou to Sense</td>\n    </tr>\n    <tr>\n      <th>9347</th>\n      <td>35321</td>\n      <td>Haikyuu!!: Tokushuu! Haru-kou Volley ni Kaketa...</td>\n    </tr>\n    <tr>\n      <th>14794</th>\n      <td>40776</td>\n      <td>Haikyuu!!: To the Top 2nd Season</td>\n    </tr>\n    <tr>\n      <th>14796</th>\n      <td>38883</td>\n      <td>Haikyuu!!: To the Top</td>\n    </tr>\n    <tr>\n      <th>14985</th>\n      <td>40372</td>\n      <td>Haikyuu!! (OVA)</td>\n    </tr>\n    <tr>\n      <th>14986</th>\n      <td>40262</td>\n      <td>Haikyuu!!: Riku vs. Kuu</td>\n    </tr>\n    <tr>\n      <th>15207</th>\n      <td>31675</td>\n      <td>Haikyuu!! Quest Picture Drama</td>\n    </tr>\n    <tr>\n      <th>17756</th>\n      <td>20583</td>\n      <td>Haikyuu!!</td>\n    </tr>\n    <tr>\n      <th>19082</th>\n      <td>25303</td>\n      <td>Haikyuu!!: Lev Genzan!</td>\n    </tr>\n  </tbody>\n</table>\n</div>"
     },
     "execution_count": 10,
     "metadata": {},
     "output_type": "execute_result"
    }
   ],
   "source": [
    "recommendations = 10\n",
    "search_word = 'Haikyuu'\n",
    "# для начала найдем аниме в заголовках датафрейма animes\n",
    "anime_search = animes[animes['title'].str.contains(search_word)]\n",
    "anime_search"
   ],
   "metadata": {
    "collapsed": false,
    "ExecuteTime": {
     "end_time": "2023-10-19T13:24:25.507872200Z",
     "start_time": "2023-10-19T13:24:25.436112400Z"
    }
   },
   "id": "3912d32dfee4065d"
  },
  {
   "cell_type": "code",
   "execution_count": 11,
   "outputs": [
    {
     "data": {
      "text/plain": "1678"
     },
     "execution_count": 11,
     "metadata": {},
     "output_type": "execute_result"
    }
   ],
   "source": [
    "# вариантов может быть несколько, для простоты всегда будем брать первый вариант\n",
    "# через iloc[0] мы берем первую строку столбца ['anime_uid']\n",
    "anime_uid = anime_search.iloc[0]['uid']\n",
    " \n",
    "# далее по индексу фильма в датасете animes найдем соответствующий индекс\n",
    "# в матрице предпочтений\n",
    "anime_uid = user_item_matrix[user_item_matrix['anime_uid'] == anime_uid].index[0]\n",
    "anime_uid"
   ],
   "metadata": {
    "collapsed": false,
    "ExecuteTime": {
     "end_time": "2023-10-19T13:24:25.544748900Z",
     "start_time": "2023-10-19T13:24:25.486942200Z"
    }
   },
   "id": "93666cc6f4985c08"
  },
  {
   "cell_type": "code",
   "execution_count": 12,
   "outputs": [],
   "source": [
    "distances, indices = knn.kneighbors(csr_data[anime_uid], n_neighbors = recommendations + 1)"
   ],
   "metadata": {
    "collapsed": false,
    "ExecuteTime": {
     "end_time": "2023-10-19T13:24:25.612522500Z",
     "start_time": "2023-10-19T13:24:25.486942200Z"
    }
   },
   "id": "f178f4bec3a9fdbd"
  },
  {
   "cell_type": "code",
   "execution_count": 13,
   "outputs": [
    {
     "name": "stdout",
     "output_type": "stream",
     "text": [
      "<class 'tuple'>\n",
      "[(1678, 0.0), (1892, 0.37211274378955894), (1449, 0.4681043755617966)]\n"
     ]
    },
    {
     "data": {
      "text/plain": "[(1892, 0.37211274378955894),\n (1449, 0.4681043755617966),\n (1568, 0.499481534075483),\n (1175, 0.5607328686644573),\n (1915, 0.5697636184263161),\n (1750, 0.5735016248224336),\n (1762, 0.5835598075040634),\n (2262, 0.5969556505636742),\n (1799, 0.6117390408503449),\n (1166, 0.6306415724234411)]"
     },
     "execution_count": 13,
     "metadata": {},
     "output_type": "execute_result"
    }
   ],
   "source": [
    "# уберем лишние измерения через squeeze() и преобразуем массивы в списки с помощью tolist()\n",
    "indices_list = indices.squeeze().tolist()\n",
    "distances_list = distances.squeeze().tolist()\n",
    " \n",
    "# далее с помощью функций zip и list преобразуем наши списки\n",
    "indices_distances = list(zip(indices_list, distances_list))\n",
    " \n",
    "# в набор кортежей (tuple)\n",
    "print(type(indices_distances[0]))\n",
    " \n",
    "# и посмотрим на первые три пары/кортежа\n",
    "print(indices_distances[:3])\n",
    "# остается отсортировать список по расстояниям через key = lambda x: x[1] (то есть по второму элементу)\n",
    "# в возрастающем порядке reverse = False\n",
    "indices_distances_sorted = sorted(indices_distances, key = lambda x: x[1], reverse = False)\n",
    " \n",
    "indices_distances_sorted = indices_distances_sorted[1:]\n",
    "indices_distances_sorted"
   ],
   "metadata": {
    "collapsed": false,
    "ExecuteTime": {
     "end_time": "2023-10-19T13:24:25.613519200Z",
     "start_time": "2023-10-19T13:24:25.579632100Z"
    }
   },
   "id": "7234a826d81cadbf"
  },
  {
   "cell_type": "code",
   "execution_count": 14,
   "outputs": [],
   "source": [
    "# создаем пустой список, в который будем помещать название аниме и расстояние до него\n",
    "recom_list = []\n",
    " \n",
    "# теперь в цикле будем поочередно проходить по кортежам\n",
    "for ind_dist in indices_distances_sorted:\n",
    " \n",
    "    # искать anime_uid в матрице предпочтений\n",
    "    matrix_anime_id = user_item_matrix.iloc[ind_dist[0]]['anime_uid']\n",
    " \n",
    "    # выяснять индекс этого фильма в датафрейме animes\n",
    "    id = animes[animes['uid'] == matrix_anime_id].index\n",
    " \n",
    "    # брать название аниме и расстояние до него\n",
    "    title = animes.iloc[id]['title'].values[0]\n",
    "    dist = ind_dist[1]\n",
    " \n",
    "    # помещать каждую пару в питоновский словарь\n",
    "    # который, в свою очередь, станет элементом списка recom_list\n",
    "    recom_list.append({'Title' : title, 'Distance' : dist})\n",
    "    recom_list[0]"
   ],
   "metadata": {
    "collapsed": false,
    "ExecuteTime": {
     "end_time": "2023-10-19T13:24:25.654384400Z",
     "start_time": "2023-10-19T13:24:25.595578800Z"
    }
   },
   "id": "7116f4755ef6bccc"
  },
  {
   "cell_type": "code",
   "execution_count": 15,
   "outputs": [
    {
     "data": {
      "text/plain": "                                                Title  Distance\n1   Haikyuu!!: Karasuno Koukou vs. Shiratorizawa G...  0.372113\n2                                           Haikyuu!!  0.468104\n3                         Kuroko no Basket 3rd Season  0.499482\n4                                    Kuroko no Basket  0.560733\n5                     Bungou Stray Dogs: Hitori Ayumu  0.569764\n6            Kuroko no Basket: Saikou no Present Desu  0.573502\n7                                             Servamp  0.583560\n8                           Tokyo Ghoul:re 2nd Season  0.596956\n9                 Kuroko no Basket Movie 4: Last Game  0.611739\n10                                    Kimi to Boku. 2  0.630642",
      "text/html": "<div>\n<style scoped>\n    .dataframe tbody tr th:only-of-type {\n        vertical-align: middle;\n    }\n\n    .dataframe tbody tr th {\n        vertical-align: top;\n    }\n\n    .dataframe thead th {\n        text-align: right;\n    }\n</style>\n<table border=\"1\" class=\"dataframe\">\n  <thead>\n    <tr style=\"text-align: right;\">\n      <th></th>\n      <th>Title</th>\n      <th>Distance</th>\n    </tr>\n  </thead>\n  <tbody>\n    <tr>\n      <th>1</th>\n      <td>Haikyuu!!: Karasuno Koukou vs. Shiratorizawa G...</td>\n      <td>0.372113</td>\n    </tr>\n    <tr>\n      <th>2</th>\n      <td>Haikyuu!!</td>\n      <td>0.468104</td>\n    </tr>\n    <tr>\n      <th>3</th>\n      <td>Kuroko no Basket 3rd Season</td>\n      <td>0.499482</td>\n    </tr>\n    <tr>\n      <th>4</th>\n      <td>Kuroko no Basket</td>\n      <td>0.560733</td>\n    </tr>\n    <tr>\n      <th>5</th>\n      <td>Bungou Stray Dogs: Hitori Ayumu</td>\n      <td>0.569764</td>\n    </tr>\n    <tr>\n      <th>6</th>\n      <td>Kuroko no Basket: Saikou no Present Desu</td>\n      <td>0.573502</td>\n    </tr>\n    <tr>\n      <th>7</th>\n      <td>Servamp</td>\n      <td>0.583560</td>\n    </tr>\n    <tr>\n      <th>8</th>\n      <td>Tokyo Ghoul:re 2nd Season</td>\n      <td>0.596956</td>\n    </tr>\n    <tr>\n      <th>9</th>\n      <td>Kuroko no Basket Movie 4: Last Game</td>\n      <td>0.611739</td>\n    </tr>\n    <tr>\n      <th>10</th>\n      <td>Kimi to Boku. 2</td>\n      <td>0.630642</td>\n    </tr>\n  </tbody>\n</table>\n</div>"
     },
     "execution_count": 15,
     "metadata": {},
     "output_type": "execute_result"
    }
   ],
   "source": [
    "# индекс будем начинать с 1, как и положено рейтингу\n",
    "recom_df = pd.DataFrame(recom_list, index = range(1, recommendations + 1))\n",
    "recom_df"
   ],
   "metadata": {
    "collapsed": false,
    "ExecuteTime": {
     "end_time": "2023-10-19T13:24:25.683289800Z",
     "start_time": "2023-10-19T13:24:25.610529500Z"
    }
   },
   "id": "15b1f1cab8966f45"
  }
 ],
 "metadata": {
  "kernelspec": {
   "display_name": "Python 3",
   "language": "python",
   "name": "python3"
  },
  "language_info": {
   "codemirror_mode": {
    "name": "ipython",
    "version": 2
   },
   "file_extension": ".py",
   "mimetype": "text/x-python",
   "name": "python",
   "nbconvert_exporter": "python",
   "pygments_lexer": "ipython2",
   "version": "2.7.6"
  }
 },
 "nbformat": 4,
 "nbformat_minor": 5
}
